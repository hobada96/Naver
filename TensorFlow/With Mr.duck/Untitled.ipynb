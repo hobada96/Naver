{
 "cells": [
  {
   "cell_type": "code",
   "execution_count": 10,
   "metadata": {},
   "outputs": [
    {
     "name": "stdout",
     "output_type": "stream",
     "text": [
      "Extracting ./mnist/data/train-images-idx3-ubyte.gz\n",
      "Extracting ./mnist/data/train-labels-idx1-ubyte.gz\n",
      "Extracting ./mnist/data/t10k-images-idx3-ubyte.gz\n",
      "Extracting ./mnist/data/t10k-labels-idx1-ubyte.gz\n"
     ]
    }
   ],
   "source": [
    "import tensorflow as tf\n",
    "from tensorflow.examples.tutorials.mnist import input_data\n",
    "mnist = input_data.read_data_sets(\"./mnist/data/\",one_hot=True)"
   ]
  },
  {
   "cell_type": "code",
   "execution_count": 12,
   "metadata": {},
   "outputs": [],
   "source": [
    "X = tf.placeholder(tf.float32,[None,784])\n",
    "Y = tf.placeholder(tf.float32,[None,10])"
   ]
  },
  {
   "cell_type": "code",
   "execution_count": 13,
   "metadata": {},
   "outputs": [],
   "source": [
    "W = tf.Variable(tf.random_uniform([784,10],-1.,1.))\n",
    "b = tf.Variable(tf.zeros([10]))"
   ]
  },
  {
   "cell_type": "code",
   "execution_count": 15,
   "metadata": {},
   "outputs": [],
   "source": [
    "model = tf.add(tf.matmul(X,W),b)\n",
    "\n",
    "loss = tf.reduce_mean(tf.nn.softmax_cross_entropy_with_logits_v2(logits=model, labels=Y))\n",
    "\n",
    "optimizer = tf.train.AdamOptimizer(learning_rate=1e-2)\n",
    "train_op = optimizer.minimize(loss)\n",
    "\n",
    "is_correct = tf.equal(tf.argmax(model, 1), tf.argmax(Y,1))\n",
    "accuray = tf.reduce_mean(tf.cast(is_correct, tf.float32))"
   ]
  },
  {
   "cell_type": "code",
   "execution_count": 20,
   "metadata": {},
   "outputs": [
    {
     "name": "stdout",
     "output_type": "stream",
     "text": [
      "0 1.9775286707011137 0.5896363613280383\n",
      "Test accuracy: 80.75\n",
      "Test accuracy: 86.52\n",
      "Test accuracy: 88.62\n",
      "Test accuracy: 89.62\n",
      "Test accuracy: 90.40\n",
      "Test accuracy: 90.72\n",
      "Test accuracy: 91.05\n",
      "Test accuracy: 91.28\n",
      "Test accuracy: 91.58\n",
      "Test accuracy: 91.76\n",
      "10 0.2896038003943183 0.9196363655003634\n",
      "Test accuracy: 91.67\n",
      "Test accuracy: 91.71\n",
      "Test accuracy: 92.07\n",
      "Test accuracy: 92.16\n",
      "Test accuracy: 92.22\n",
      "Test accuracy: 92.19\n",
      "Test accuracy: 92.07\n",
      "Test accuracy: 92.27\n",
      "Test accuracy: 92.29\n",
      "Test accuracy: 92.41\n",
      "20 0.253271975571459 0.9301636392419989\n",
      "Test accuracy: 92.53\n",
      "Test accuracy: 92.51\n",
      "Test accuracy: 92.52\n",
      "Test accuracy: 92.37\n",
      "Test accuracy: 92.42\n",
      "Test accuracy: 92.39\n",
      "Test accuracy: 92.55\n",
      "Test accuracy: 92.58\n",
      "Test accuracy: 92.56\n",
      "Test accuracy: 92.41\n",
      "30 0.24048954167149283 0.9328727223656395\n",
      "Test accuracy: 92.62\n"
     ]
    }
   ],
   "source": [
    "with tf.Session() as sess:\n",
    "    sess.run(tf.global_variables_initializer())\n",
    "    \n",
    "    batch_size = 1000\n",
    "    total_batch = int(mnist.train.num_examples / batch_size)\n",
    "    \n",
    "    epoch = 31\n",
    "    for i in range(epoch):\n",
    "        total_loss = 0\n",
    "        total_acc = 0\n",
    "        \n",
    "        for j in range(total_batch):\n",
    "            batch_xs, batch_ys = mnist.train.next_batch(batch_size=batch_size)\n",
    "            sess.run(train_op, feed_dict={X:batch_xs, Y:batch_ys})\n",
    "            l = sess.run(loss, feed_dict = {X:batch_xs, Y:batch_ys})\n",
    "            total_loss += l\n",
    "            acc = sess.run(accuray, feed_dict={X:batch_xs, Y:batch_ys})\n",
    "            total_acc += acc\n",
    "        \n",
    "        if i % 10 == 0:\n",
    "            print(i, total_loss / total_batch, total_acc / total_batch)\n",
    "        \n",
    "        test_acc = sess.run(accuray, feed_dict={X:mnist.test.images, Y: mnist.test.labels})\n",
    "        print(\"Test accuracy: %.2f\"%(test_acc*100))"
   ]
  }
 ],
 "metadata": {
  "kernelspec": {
   "display_name": "Python 3",
   "language": "python",
   "name": "python3"
  },
  "language_info": {
   "codemirror_mode": {
    "name": "ipython",
    "version": 3
   },
   "file_extension": ".py",
   "mimetype": "text/x-python",
   "name": "python",
   "nbconvert_exporter": "python",
   "pygments_lexer": "ipython3",
   "version": "3.6.4"
  }
 },
 "nbformat": 4,
 "nbformat_minor": 2
}
